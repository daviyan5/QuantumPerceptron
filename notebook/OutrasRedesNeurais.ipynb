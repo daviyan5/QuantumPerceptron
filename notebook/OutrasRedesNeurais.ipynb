{
 "cells": [
  {
   "cell_type": "code",
   "execution_count": 1,
   "metadata": {},
   "outputs": [
    {
     "data": {
      "image/png": "[encoded data removed]",
      "text/plain": [
       "<Figure size 504x504 with 3 Axes>"
      ]
     },
     "metadata": {
      "needs_background": "light"
     },
     "output_type": "display_data"
    }
   ],
   "source": [
    "import numpy as np\n",
    "import matplotlib.pyplot as plt\n",
    "def load_data_arrays():\n",
    "    train_set_x = np.load(\"../src/params/train_set_x.npy\")\n",
    "    train_set_y = np.load(\"../src/params/train_set_y.npy\")\n",
    "    test_set_x = np.load(\"../src/params/test_set_x.npy\")\n",
    "    test_set_y = np.load(\"../src/params/test_set_y.npy\")\n",
    "    return train_set_x, train_set_y, test_set_x, test_set_y\n",
    "train_set_x, train_set_y, test_set_x, test_set_y = load_data_arrays()\n",
    "plt.rcParams[\"figure.figsize\"] = (7,7)\n",
    "fig, axs = plt.subplots(3)\n",
    "fig.tight_layout()"
   ]
  },
  {
   "cell_type": "code",
   "execution_count": 108,
   "metadata": {},
   "outputs": [
    {
     "name": "stdout",
     "output_type": "stream",
     "text": [
      "0.852\n"
     ]
    }
   ],
   "source": [
    "from sklearn.neural_network import MLPClassifier\n",
    "clf = MLPClassifier(solver='sgd', alpha=1e-5, hidden_layer_sizes=(1, 1), random_state=1,max_iter=1000)\n",
    "clf.fit(train_set_x, train_set_y)\n",
    "print(1 - clf.score(test_set_x, test_set_y))\n",
    "axs[0].plot(list(clf.loss_curve_), label = \"Loss Curve\")\n",
    "axs.flat[0].set(xlabel='Iteration', ylabel='Loss')\n",
    "axs[0].set_title(\"SVG Optmizer Loss Curve\\n 1 Hidden layer of 1 Neuron\")\n",
    "axs[0].legend()\n",
    "axs[0].grid()\n"
   ]
  },
  {
   "cell_type": "code",
   "execution_count": 109,
   "metadata": {},
   "outputs": [
    {
     "name": "stdout",
     "output_type": "stream",
     "text": [
      "0.852\n"
     ]
    }
   ],
   "source": [
    "\n",
    "from sklearn.neural_network import MLPClassifier\n",
    "clf = MLPClassifier(solver='sgd', alpha=1e-5, hidden_layer_sizes=(5, 2), random_state=1,max_iter=1000)\n",
    "clf.fit(train_set_x, train_set_y)\n",
    "print(1 - clf.score(test_set_x, test_set_y))\n",
    "axs[1].plot(list(clf.loss_curve_), label = \"Loss Curve\", c= 'green')\n",
    "axs.flat[1].set(xlabel='Iteration', ylabel='Loss')\n",
    "axs[1].set_title(\"SVG Optmizer Loss Curve\\n 5 Hidden layers of 2 Neurons\")\n",
    "axs[1].legend()\n",
    "axs[1].grid()\n",
    "#fig.savefig(\"loss_curve_perceptron_2.jpg\",bbox_inches='tight')\n",
    "#plt.savefig(\"loss_curve_sgd_52.jpg\")"
   ]
  },
  {
   "cell_type": "code",
   "execution_count": 110,
   "metadata": {},
   "outputs": [
    {
     "name": "stdout",
     "output_type": "stream",
     "text": [
      "0.846\n"
     ]
    }
   ],
   "source": [
    "from sklearn.neural_network import MLPClassifier\n",
    "clf = MLPClassifier(solver='adam', alpha=1e-5, hidden_layer_sizes=(6, 5), random_state=1)\n",
    "clf.fit(train_set_x, train_set_y)\n",
    "print(1 - clf.score(test_set_x, test_set_y))\n",
    "axs[2].plot(list(clf.loss_curve_), label = \"Loss Curve\",c = 'red')\n",
    "axs.flat[2].set(xlabel='Iteration', ylabel='Loss')\n",
    "axs[2].set_title(\"Adam Optmizer Loss Curve\\n 6 Hidden layers of 5 Neurons\")\n",
    "axs[2].legend()\n",
    "axs[2].grid()\n",
    "fig.subplots_adjust(hspace=1.1)\n",
    "fig.savefig(\"loss_curve_adam_65.jpg\",bbox_inches='tight')\n"
   ]
  }
 ],
 "metadata": {
  "interpreter": {
   "hash": "c897b12af8fd05d288052045b5d2327c42aedc5a17dbe3a905a013465764ed6e"
  },
  "kernelspec": {
   "display_name": "Python 3.9.7 ('base')",
   "language": "python",
   "name": "python3"
  },
  "language_info": {
   "codemirror_mode": {
    "name": "ipython",
    "version": 3
   },
   "file_extension": ".py",
   "mimetype": "text/x-python",
   "name": "python",
   "nbconvert_exporter": "python",
   "pygments_lexer": "ipython3",
   "version": "3.9.7"
  },
  "orig_nbformat": 4
 },
 "nbformat": 4,
 "nbformat_minor": 2
}
